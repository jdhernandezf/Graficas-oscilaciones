{
  "cells": [
    {
      "cell_type": "markdown",
      "metadata": {
        "id": "view-in-github",
        "colab_type": "text"
      },
      "source": [
        "<a href=\"https://colab.research.google.com/github/jdhernandezf/Graficas-oscilaciones/blob/main/TP1/Oscilaciones_Forzadas.ipynb\" target=\"_parent\"><img src=\"https://colab.research.google.com/assets/colab-badge.svg\" alt=\"Open In Colab\"/></a>"
      ]
    },
    {
      "cell_type": "code",
      "execution_count": null,
      "metadata": {
        "id": "370VxWQ3RHdH"
      },
      "outputs": [],
      "source": [
        "import numpy as np\n",
        "import matplotlib.pyplot as plt\n",
        "from ipywidgets import interactive"
      ]
    },
    {
      "cell_type": "code",
      "execution_count": null,
      "metadata": {
        "colab": {
          "base_uri": "https://localhost:8080/"
        },
        "id": "qeftQk-VtZER",
        "outputId": "a00bd678-a4cc-459a-9de9-2c483c9d26ca"
      },
      "outputs": [
        {
          "output_type": "stream",
          "name": "stdout",
          "text": [
            "Teniendo en cuenta que la frecuencia natural del sietema es: 1\n",
            "F0= 1\n",
            "m= 1\n"
          ]
        }
      ],
      "source": [
        "w0=1\n",
        "F0=1\n",
        "m=1\n",
        "print(\"Teniendo en cuenta que la frecuencia natural del sietema es:\",w0)\n",
        "print(\"F0=\",F0)\n",
        "print(\"m=\",m)\n",
        "\n",
        "#gamma=input(\"Ingrese gamma: \")\n",
        "#gamma = float(gamma)\n",
        "\n",
        "#wex=input(\"Ingrese we: \")\n",
        "#wex = float(wex)\n",
        "\n",
        "#fig=plt.figure(figsize=(15,8))\n",
        "colores = ['blue','green','red','cyan','magenta','yellow','black','white']\n",
        "\n",
        "#-----------------------------------------\n",
        "\n",
        "def Graficas(wex,gamma):\n",
        "    w0=1\n",
        "    F0=1\n",
        "    m=1\n",
        "\n",
        "    B=5\n",
        "    w=np.sqrt(w0**2-gamma*2)\n",
        "    W=2\n",
        "    n=1000                     \n",
        "    we=np.linspace(0,W,n+1)\n",
        "\n",
        "    def A(we):\n",
        "        return (F0/(m*np.sqrt((w0**2-we**2)**2+(2*gamma*we)**2)))\n",
        "\n",
        "    fig=plt.figure(figsize=(15,8))\n",
        "\n",
        "    ax=plt.subplot(2,2,1)\n",
        "    plt.axvline(x=w0, ymin=0, ymax=0.9,color='r')\n",
        "    plt.axvline(x=wex, ymin=0, ymax=0.9,color='g')\n",
        "    #plt.axvline(x=w0, ymin=min(A(we)), ymax=max(A(we)))\n",
        "    plt.plot(we,A(we),'b')\n",
        "    #plt.title(\"A vs we\")\n",
        "    plt.ylabel(\"Amplitud\")\n",
        "    plt.xlabel(\"Frecuencia angular\")\n",
        "    plt.show\n",
        "\n",
        "    #--------------------------------------------------\n",
        "                    \n",
        "    we=np.linspace(0,W/2,n+1)\n",
        "    we1=np.linspace(W/2+0.0001,W,n+1)\n",
        "\n",
        "\n",
        "\n",
        "    def d(we):\n",
        "        return np.arctan((2*gamma*we)/(w0**2-we**2))\n",
        "    def d1(we1):\n",
        "        return np.arctan((2*gamma*we1)/(w0**2-we1**2))+np.pi\n",
        "    def cero(we):\n",
        "        return 0\n",
        "\n",
        "    ax=plt.subplot(2,2,2)\n",
        "    plt.axvline(x=w0, ymin=0, ymax=0.9,color='r')\n",
        "    plt.axvline(x=wex, ymin=0, ymax=0.9,color='g')\n",
        "    plt.plot(we,d(we),'b')\n",
        "    plt.plot(we1,d1(we1),'b')\n",
        "    #plt.title(\"d vs we\")\n",
        "    plt.ylabel(\"Fase\")\n",
        "    plt.xlabel(\"Frecuencia angular\")\n",
        "    plt.show\n",
        "\n",
        "    #---------------------------------------------------------------------\n",
        "\n",
        "    #def xt(t):\n",
        "    #    return B*np.exp(-gamma*t)*np.sin(w*t)\n",
        "\n",
        "    def xe(t):\n",
        "        return (F0/(m*np.sqrt((w0**2-wex**2)**2+(2*gamma*wex)**2)))*np.cos(wex*t-d)\n",
        "\n",
        "    def P(t):\n",
        "        return ((-F0**2)/(m))*((wex*np.cos(wex*t)*np.sin(wex*t-d))/np.sqrt((w0**2-wex**2)**2+(2*gamma*wex)**2))\n",
        "\n",
        "    def F(t):\n",
        "        return F0*np.cos(wex*t)\n",
        "\n",
        "    if wex==w0:\n",
        "        d= np.pi/2\n",
        "    else :\n",
        "        d=np.arctan((2*gamma*wex)/(w0**2-wex**2))\n",
        "\n",
        "\n",
        "    T=6*np.pi\n",
        "    n=1000                     \n",
        "    t=np.linspace(0,T,n+1)\n",
        "\n",
        "    #plt.figure(figsize=figsize,dpi=dpi)\n",
        "    ax=plt.subplot(2,2,3)\n",
        "    plt.plot(t,xe(t),label='Posición',color='b')\n",
        "    plt.plot(t,P(t),label='Potencia',color='m')\n",
        "    plt.plot(t,F(t),label='Forzamiento',color='r')\n",
        "    #plt.title(\"posición vs tiempo\")\n",
        "    plt.ylabel(\"Posición\")\n",
        "    plt.xlabel(\"Tiempo\")\n",
        "    plt.show\n",
        "\n",
        "\n",
        "    #--------------------------------------------------------------------\n",
        "                    \n",
        "    we=np.linspace(0,W,n+1)\n",
        "\n",
        "    def P0(we):\n",
        "        return (((F0**2)*w0)/(2*(w0**2)*m*(w0/(2*gamma))))*(1/((w0/we-we/w0)**2+1/(w0/(2*gamma))**2))\n",
        "\n",
        "\n",
        "    if wex==w0:\n",
        "        d= np.pi/2\n",
        "    else :\n",
        "        d=np.arctan((2*gamma*we)/(w0**2-we**2))\n",
        "\n",
        "    T=10\n",
        "    n=1000                     \n",
        "    t=np.linspace(0,T,n+1)\n",
        "\n",
        "    #plt.figure(figsize=figsize,dpi=dpi)\n",
        "    ax=plt.subplot(2,2,4)\n",
        "    plt.axvline(x=w0, ymin=0, ymax=0.9,color='r')\n",
        "    plt.axvline(x=wex, ymin=0, ymax=0.9,color='g')\n",
        "    plt.plot(we,P0(we),'b')\n",
        "    #plt.title(\"Ptencia vs w0\")\n",
        "    plt.ylabel(\"Potencian\")\n",
        "    plt.xlabel(\"Frecuencia angular\")\n",
        "    plt.show"
      ]
    },
    {
      "cell_type": "code",
      "execution_count": null,
      "metadata": {
        "colab": {
          "base_uri": "https://localhost:8080/",
          "height": 133,
          "referenced_widgets": [
            "ca18906e7d514bb8888a690c08465357",
            "e578194c5f004edcaba27dcb7b8fe755",
            "acb2466d56bf46c2ab3fe66f3ffd4e8c",
            "fb85710dd01149b79673e44e3c875420",
            "ac4f0144d25c447eb729ca28e65eb08f",
            "112fb567d4e04d30bb0b9f250379a4eb",
            "de276078c7a249d6a97a4a8f33183bd5",
            "685eae4e418f4d9a93c558741af554c4",
            "70b1c6b1dbfe477daf27be553fd7e4ff",
            "2c6815dd1b834cb9bf390865790a92b1"
          ]
        },
        "id": "qu31Q1Ottg69",
        "outputId": "61c8dab7-ffd7-4b9c-87c1-17aabb84a9c3"
      },
      "outputs": [
        {
          "output_type": "display_data",
          "data": {
            "text/plain": [
              "interactive(children=(FloatSlider(value=1.0, description='wex', max=2.0, step=0.01), FloatSlider(value=0.5, de…"
            ],
            "application/vnd.jupyter.widget-view+json": {
              "version_major": 2,
              "version_minor": 0,
              "model_id": "ca18906e7d514bb8888a690c08465357"
            }
          },
          "metadata": {}
        }
      ],
      "source": [
        "interactive_plot = interactive(Graficas,wex=(0,2,0.01),gamma=(0.01,1,0.01))\n",
        "interactive_plot"
      ]
    },
    {
      "cell_type": "code",
      "execution_count": null,
      "metadata": {
        "id": "GaOq-1sZwNtO"
      },
      "outputs": [],
      "source": []
    }
  ],
  "metadata": {
    "colab": {
      "provenance": [],
      "collapsed_sections": [],
      "authorship_tag": "ABX9TyPOef3B4uH9+sau7eksYqq0",
      "include_colab_link": true
    },
    "kernelspec": {
      "display_name": "Python 3",
      "name": "python3"
    },
    "language_info": {
      "name": "python"
    },
    "widgets": {
      "application/vnd.jupyter.widget-state+json": {
        "ca18906e7d514bb8888a690c08465357": {
          "model_module": "@jupyter-widgets/controls",
          "model_name": "VBoxModel",
          "model_module_version": "1.5.0",
          "state": {
            "_dom_classes": [
              "widget-interact"
            ],
            "_model_module": "@jupyter-widgets/controls",
            "_model_module_version": "1.5.0",
            "_model_name": "VBoxModel",
            "_view_count": null,
            "_view_module": "@jupyter-widgets/controls",
            "_view_module_version": "1.5.0",
            "_view_name": "VBoxView",
            "box_style": "",
            "children": [
              "IPY_MODEL_e578194c5f004edcaba27dcb7b8fe755",
              "IPY_MODEL_acb2466d56bf46c2ab3fe66f3ffd4e8c",
              "IPY_MODEL_fb85710dd01149b79673e44e3c875420"
            ],
            "layout": "IPY_MODEL_ac4f0144d25c447eb729ca28e65eb08f"
          }
        },
        "e578194c5f004edcaba27dcb7b8fe755": {
          "model_module": "@jupyter-widgets/controls",
          "model_name": "FloatSliderModel",
          "model_module_version": "1.5.0",
          "state": {
            "_dom_classes": [],
            "_model_module": "@jupyter-widgets/controls",
            "_model_module_version": "1.5.0",
            "_model_name": "FloatSliderModel",
            "_view_count": null,
            "_view_module": "@jupyter-widgets/controls",
            "_view_module_version": "1.5.0",
            "_view_name": "FloatSliderView",
            "continuous_update": true,
            "description": "wex",
            "description_tooltip": null,
            "disabled": false,
            "layout": "IPY_MODEL_112fb567d4e04d30bb0b9f250379a4eb",
            "max": 2,
            "min": 0,
            "orientation": "horizontal",
            "readout": true,
            "readout_format": ".2f",
            "step": 0.01,
            "style": "IPY_MODEL_de276078c7a249d6a97a4a8f33183bd5",
            "value": 1.16
          }
        },
        "acb2466d56bf46c2ab3fe66f3ffd4e8c": {
          "model_module": "@jupyter-widgets/controls",
          "model_name": "FloatSliderModel",
          "model_module_version": "1.5.0",
          "state": {
            "_dom_classes": [],
            "_model_module": "@jupyter-widgets/controls",
            "_model_module_version": "1.5.0",
            "_model_name": "FloatSliderModel",
            "_view_count": null,
            "_view_module": "@jupyter-widgets/controls",
            "_view_module_version": "1.5.0",
            "_view_name": "FloatSliderView",
            "continuous_update": true,
            "description": "gamma",
            "description_tooltip": null,
            "disabled": false,
            "layout": "IPY_MODEL_685eae4e418f4d9a93c558741af554c4",
            "max": 1,
            "min": 0.01,
            "orientation": "horizontal",
            "readout": true,
            "readout_format": ".2f",
            "step": 0.01,
            "style": "IPY_MODEL_70b1c6b1dbfe477daf27be553fd7e4ff",
            "value": 0.09
          }
        },
        "fb85710dd01149b79673e44e3c875420": {
          "model_module": "@jupyter-widgets/output",
          "model_name": "OutputModel",
          "model_module_version": "1.0.0",
          "state": {
            "_dom_classes": [],
            "_model_module": "@jupyter-widgets/output",
            "_model_module_version": "1.0.0",
            "_model_name": "OutputModel",
            "_view_count": null,
            "_view_module": "@jupyter-widgets/output",
            "_view_module_version": "1.0.0",
            "_view_name": "OutputView",
            "layout": "IPY_MODEL_2c6815dd1b834cb9bf390865790a92b1",
            "msg_id": "",
            "outputs": [
              {
                "output_type": "stream",
                "name": "stderr",
                "text": [
                  "/usr/local/lib/python3.7/dist-packages/ipykernel_launcher.py:53: RuntimeWarning: divide by zero encountered in true_divide\n",
                  "/usr/local/lib/python3.7/dist-packages/ipykernel_launcher.py:115: RuntimeWarning: divide by zero encountered in true_divide\n",
                  "/usr/local/lib/python3.7/dist-packages/ipykernel_launcher.py:109: RuntimeWarning: divide by zero encountered in true_divide\n"
                ]
              },
              {
                "output_type": "display_data",
                "data": {
                  "text/plain": "<Figure size 1080x576 with 4 Axes>",
                  "image/png": "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\n"
                },
                "metadata": {
                  "needs_background": "light"
                }
              }
            ]
          }
        },
        "ac4f0144d25c447eb729ca28e65eb08f": {
          "model_module": "@jupyter-widgets/base",
          "model_name": "LayoutModel",
          "model_module_version": "1.2.0",
          "state": {
            "_model_module": "@jupyter-widgets/base",
            "_model_module_version": "1.2.0",
            "_model_name": "LayoutModel",
            "_view_count": null,
            "_view_module": "@jupyter-widgets/base",
            "_view_module_version": "1.2.0",
            "_view_name": "LayoutView",
            "align_content": null,
            "align_items": null,
            "align_self": null,
            "border": null,
            "bottom": null,
            "display": null,
            "flex": null,
            "flex_flow": null,
            "grid_area": null,
            "grid_auto_columns": null,
            "grid_auto_flow": null,
            "grid_auto_rows": null,
            "grid_column": null,
            "grid_gap": null,
            "grid_row": null,
            "grid_template_areas": null,
            "grid_template_columns": null,
            "grid_template_rows": null,
            "height": null,
            "justify_content": null,
            "justify_items": null,
            "left": null,
            "margin": null,
            "max_height": null,
            "max_width": null,
            "min_height": null,
            "min_width": null,
            "object_fit": null,
            "object_position": null,
            "order": null,
            "overflow": null,
            "overflow_x": null,
            "overflow_y": null,
            "padding": null,
            "right": null,
            "top": null,
            "visibility": null,
            "width": null
          }
        },
        "112fb567d4e04d30bb0b9f250379a4eb": {
          "model_module": "@jupyter-widgets/base",
          "model_name": "LayoutModel",
          "model_module_version": "1.2.0",
          "state": {
            "_model_module": "@jupyter-widgets/base",
            "_model_module_version": "1.2.0",
            "_model_name": "LayoutModel",
            "_view_count": null,
            "_view_module": "@jupyter-widgets/base",
            "_view_module_version": "1.2.0",
            "_view_name": "LayoutView",
            "align_content": null,
            "align_items": null,
            "align_self": null,
            "border": null,
            "bottom": null,
            "display": null,
            "flex": null,
            "flex_flow": null,
            "grid_area": null,
            "grid_auto_columns": null,
            "grid_auto_flow": null,
            "grid_auto_rows": null,
            "grid_column": null,
            "grid_gap": null,
            "grid_row": null,
            "grid_template_areas": null,
            "grid_template_columns": null,
            "grid_template_rows": null,
            "height": null,
            "justify_content": null,
            "justify_items": null,
            "left": null,
            "margin": null,
            "max_height": null,
            "max_width": null,
            "min_height": null,
            "min_width": null,
            "object_fit": null,
            "object_position": null,
            "order": null,
            "overflow": null,
            "overflow_x": null,
            "overflow_y": null,
            "padding": null,
            "right": null,
            "top": null,
            "visibility": null,
            "width": null
          }
        },
        "de276078c7a249d6a97a4a8f33183bd5": {
          "model_module": "@jupyter-widgets/controls",
          "model_name": "SliderStyleModel",
          "model_module_version": "1.5.0",
          "state": {
            "_model_module": "@jupyter-widgets/controls",
            "_model_module_version": "1.5.0",
            "_model_name": "SliderStyleModel",
            "_view_count": null,
            "_view_module": "@jupyter-widgets/base",
            "_view_module_version": "1.2.0",
            "_view_name": "StyleView",
            "description_width": "",
            "handle_color": null
          }
        },
        "685eae4e418f4d9a93c558741af554c4": {
          "model_module": "@jupyter-widgets/base",
          "model_name": "LayoutModel",
          "model_module_version": "1.2.0",
          "state": {
            "_model_module": "@jupyter-widgets/base",
            "_model_module_version": "1.2.0",
            "_model_name": "LayoutModel",
            "_view_count": null,
            "_view_module": "@jupyter-widgets/base",
            "_view_module_version": "1.2.0",
            "_view_name": "LayoutView",
            "align_content": null,
            "align_items": null,
            "align_self": null,
            "border": null,
            "bottom": null,
            "display": null,
            "flex": null,
            "flex_flow": null,
            "grid_area": null,
            "grid_auto_columns": null,
            "grid_auto_flow": null,
            "grid_auto_rows": null,
            "grid_column": null,
            "grid_gap": null,
            "grid_row": null,
            "grid_template_areas": null,
            "grid_template_columns": null,
            "grid_template_rows": null,
            "height": null,
            "justify_content": null,
            "justify_items": null,
            "left": null,
            "margin": null,
            "max_height": null,
            "max_width": null,
            "min_height": null,
            "min_width": null,
            "object_fit": null,
            "object_position": null,
            "order": null,
            "overflow": null,
            "overflow_x": null,
            "overflow_y": null,
            "padding": null,
            "right": null,
            "top": null,
            "visibility": null,
            "width": null
          }
        },
        "70b1c6b1dbfe477daf27be553fd7e4ff": {
          "model_module": "@jupyter-widgets/controls",
          "model_name": "SliderStyleModel",
          "model_module_version": "1.5.0",
          "state": {
            "_model_module": "@jupyter-widgets/controls",
            "_model_module_version": "1.5.0",
            "_model_name": "SliderStyleModel",
            "_view_count": null,
            "_view_module": "@jupyter-widgets/base",
            "_view_module_version": "1.2.0",
            "_view_name": "StyleView",
            "description_width": "",
            "handle_color": null
          }
        },
        "2c6815dd1b834cb9bf390865790a92b1": {
          "model_module": "@jupyter-widgets/base",
          "model_name": "LayoutModel",
          "model_module_version": "1.2.0",
          "state": {
            "_model_module": "@jupyter-widgets/base",
            "_model_module_version": "1.2.0",
            "_model_name": "LayoutModel",
            "_view_count": null,
            "_view_module": "@jupyter-widgets/base",
            "_view_module_version": "1.2.0",
            "_view_name": "LayoutView",
            "align_content": null,
            "align_items": null,
            "align_self": null,
            "border": null,
            "bottom": null,
            "display": null,
            "flex": null,
            "flex_flow": null,
            "grid_area": null,
            "grid_auto_columns": null,
            "grid_auto_flow": null,
            "grid_auto_rows": null,
            "grid_column": null,
            "grid_gap": null,
            "grid_row": null,
            "grid_template_areas": null,
            "grid_template_columns": null,
            "grid_template_rows": null,
            "height": null,
            "justify_content": null,
            "justify_items": null,
            "left": null,
            "margin": null,
            "max_height": null,
            "max_width": null,
            "min_height": null,
            "min_width": null,
            "object_fit": null,
            "object_position": null,
            "order": null,
            "overflow": null,
            "overflow_x": null,
            "overflow_y": null,
            "padding": null,
            "right": null,
            "top": null,
            "visibility": null,
            "width": null
          }
        }
      }
    }
  },
  "nbformat": 4,
  "nbformat_minor": 0
}